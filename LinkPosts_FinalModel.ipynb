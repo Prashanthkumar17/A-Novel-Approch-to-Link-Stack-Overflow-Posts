{
  "nbformat": 4,
  "nbformat_minor": 0,
  "metadata": {
    "colab": {
      "name": "FinalModel.ipynb",
      "provenance": [],
      "collapsed_sections": []
    },
    "kernelspec": {
      "name": "python3",
      "display_name": "Python 3"
    },
    "language_info": {
      "name": "python"
    },
    "accelerator": "GPU"
  },
  "cells": [
    {
      "cell_type": "code",
      "metadata": {
        "id": "Bv6esKUTch4t"
      },
      "source": [
        "import warnings\n",
        "warnings.filterwarnings(action='ignore', category=UserWarning, module='gensim')\n",
        "import gensim\n",
        "import numpy as np\n",
        "import nltk\n",
        "from nltk.corpus import stopwords\n",
        "from nltk.stem import SnowballStemmer\n",
        "import re\n",
        "from gensim import utils\n",
        "from gensim.models.doc2vec import TaggedDocument\n",
        "from gensim.models import Doc2Vec\n",
        "from sklearn.metrics.pairwise import cosine_similarity\n",
        "from sklearn.feature_extraction.text import TfidfVectorizer\n",
        "from gensim.models import TfidfModel\n",
        "from gensim.corpora import Dictionary\n",
        "from sklearn.feature_extraction.text import HashingVectorizer  \n",
        "from nltk.tokenize import word_tokenize\n",
        "from nltk.stem.lancaster import LancasterStemmer\n",
        "from nltk.stem import WordNetLemmatizer\n",
        "import nltk.data\n",
        "from sklearn.metrics.pairwise import cosine_similarity\n",
        "import time\n",
        "import pandas as pd\n",
        "\n",
        "\n",
        "data = pd.read_csv(\"/content/drive/MyDrive/SM Project/Posts.csv\")\n",
        "filteredData = data.dropna()\n",
        "filteredData = filteredData.head(300000)"
      ],
      "execution_count": 1,
      "outputs": []
    },
    {
      "cell_type": "code",
      "metadata": {
        "colab": {
          "base_uri": "https://localhost:8080/"
        },
        "id": "PmRLHIB1oozx",
        "outputId": "2ee1381f-0b31-488a-8c21-be548cef9761"
      },
      "source": [
        "warnings.filterwarnings(action = 'ignore', category=DeprecationWarning)\n",
        "postLinks = pd.read_csv(\"/content/drive/MyDrive/SM Project/PostLinks.csv\")\n",
        "postLinksDupl = postLinks[postLinks['LinkTypeId'] == 3]\n",
        "len(postLinksDupl)"
      ],
      "execution_count": 2,
      "outputs": [
        {
          "output_type": "execute_result",
          "data": {
            "text/plain": [
              "1096708"
            ]
          },
          "metadata": {},
          "execution_count": 2
        }
      ]
    },
    {
      "cell_type": "code",
      "metadata": {
        "colab": {
          "base_uri": "https://localhost:8080/",
          "height": 310
        },
        "id": "8rphWhtyo4Rk",
        "outputId": "2f888631-dbd9-473e-9eff-6d26191c4e84"
      },
      "source": [
        "filteredData.head()"
      ],
      "execution_count": 3,
      "outputs": [
        {
          "output_type": "execute_result",
          "data": {
            "text/html": [
              "<div>\n",
              "<style scoped>\n",
              "    .dataframe tbody tr th:only-of-type {\n",
              "        vertical-align: middle;\n",
              "    }\n",
              "\n",
              "    .dataframe tbody tr th {\n",
              "        vertical-align: top;\n",
              "    }\n",
              "\n",
              "    .dataframe thead th {\n",
              "        text-align: right;\n",
              "    }\n",
              "</style>\n",
              "<table border=\"1\" class=\"dataframe\">\n",
              "  <thead>\n",
              "    <tr style=\"text-align: right;\">\n",
              "      <th></th>\n",
              "      <th>Id</th>\n",
              "      <th>Body</th>\n",
              "      <th>Title</th>\n",
              "      <th>PostTypeId</th>\n",
              "      <th>Tags</th>\n",
              "      <th>CreationDate</th>\n",
              "    </tr>\n",
              "  </thead>\n",
              "  <tbody>\n",
              "    <tr>\n",
              "      <th>0</th>\n",
              "      <td>337</td>\n",
              "      <td>&lt;p&gt;I am about to build a piece of a project th...</td>\n",
              "      <td>XML Processing in Python</td>\n",
              "      <td>1</td>\n",
              "      <td>&lt;python&gt;&lt;xml&gt;</td>\n",
              "      <td>2008-08-02T03:35:55.697</td>\n",
              "    </tr>\n",
              "    <tr>\n",
              "      <th>1</th>\n",
              "      <td>469</td>\n",
              "      <td>&lt;p&gt;I am using the Photoshop's javascript API t...</td>\n",
              "      <td>How can I find the full path to a font from it...</td>\n",
              "      <td>1</td>\n",
              "      <td>&lt;python&gt;&lt;macos&gt;&lt;fonts&gt;&lt;photoshop&gt;</td>\n",
              "      <td>2008-08-02T15:11:16.430</td>\n",
              "    </tr>\n",
              "    <tr>\n",
              "      <th>2</th>\n",
              "      <td>502</td>\n",
              "      <td>&lt;p&gt;I have a cross-platform (Python) applicatio...</td>\n",
              "      <td>Get a preview JPEG of a PDF on Windows?</td>\n",
              "      <td>1</td>\n",
              "      <td>&lt;python&gt;&lt;windows&gt;&lt;image&gt;&lt;pdf&gt;</td>\n",
              "      <td>2008-08-02T17:01:58.500</td>\n",
              "    </tr>\n",
              "    <tr>\n",
              "      <th>3</th>\n",
              "      <td>535</td>\n",
              "      <td>&lt;p&gt;I am starting to work on a hobby project wi...</td>\n",
              "      <td>Continuous Integration System for a Python Cod...</td>\n",
              "      <td>1</td>\n",
              "      <td>&lt;python&gt;&lt;continuous-integration&gt;&lt;extreme-progr...</td>\n",
              "      <td>2008-08-02T18:43:54.787</td>\n",
              "    </tr>\n",
              "    <tr>\n",
              "      <th>4</th>\n",
              "      <td>594</td>\n",
              "      <td>&lt;p&gt;There are several ways to iterate over a re...</td>\n",
              "      <td>cx_Oracle: How do I iterate over a result set?</td>\n",
              "      <td>1</td>\n",
              "      <td>&lt;python&gt;&lt;sql&gt;&lt;database&gt;&lt;oracle&gt;&lt;cx-oracle&gt;</td>\n",
              "      <td>2008-08-03T01:15:08.507</td>\n",
              "    </tr>\n",
              "  </tbody>\n",
              "</table>\n",
              "</div>"
            ],
            "text/plain": [
              "    Id  ...             CreationDate\n",
              "0  337  ...  2008-08-02T03:35:55.697\n",
              "1  469  ...  2008-08-02T15:11:16.430\n",
              "2  502  ...  2008-08-02T17:01:58.500\n",
              "3  535  ...  2008-08-02T18:43:54.787\n",
              "4  594  ...  2008-08-03T01:15:08.507\n",
              "\n",
              "[5 rows x 6 columns]"
            ]
          },
          "metadata": {},
          "execution_count": 3
        }
      ]
    },
    {
      "cell_type": "code",
      "metadata": {
        "colab": {
          "base_uri": "https://localhost:8080/"
        },
        "id": "3tOA5jiRo-Ek",
        "outputId": "00a9ce3d-d2bb-49a1-e352-5666ccad7dac"
      },
      "source": [
        "unansweredQues = pd.read_csv(\"/content/drive/MyDrive/SM Project/UnansweredPosts.csv\")\n",
        "print(len(unansweredQues))\n",
        "unansweredQues['AcceptedAnswerId'].replace(-999, np.nan, inplace=True)\n",
        "unansweredQues.dropna(subset=['AcceptedAnswerId'], inplace=True)\n",
        "filUnAns = unansweredQues[unansweredQues['Tags'].str.contains(\"python\")]"
      ],
      "execution_count": 4,
      "outputs": [
        {
          "output_type": "stream",
          "name": "stdout",
          "text": [
            "1000000\n"
          ]
        }
      ]
    },
    {
      "cell_type": "code",
      "metadata": {
        "colab": {
          "base_uri": "https://localhost:8080/"
        },
        "id": "qpZXMvMJpT3n",
        "outputId": "007fa207-98a7-425f-c7c5-65e199ffac89"
      },
      "source": [
        "allIds = list(unansweredQues.Id)\n",
        "titles = []\n",
        "print(len(allIds))\n",
        "\n",
        "unIds = []\n",
        "for i in filteredData.index:\n",
        "    if (filteredData['Id'][i] in allIds) and (len(unIds) <= 10):\n",
        "        unIds.append(filteredData['Id'][i])\n",
        "        titles.append(filteredData['Title'][i])\n",
        "    else:\n",
        "        break\n",
        "\n",
        "print(unIds)"
      ],
      "execution_count": 5,
      "outputs": [
        {
          "output_type": "stream",
          "name": "stdout",
          "text": [
            "180080\n",
            "[337, 469, 502, 535, 594, 683, 742, 766, 773, 972, 1171]\n"
          ]
        }
      ]
    },
    {
      "cell_type": "code",
      "metadata": {
        "colab": {
          "base_uri": "https://localhost:8080/"
        },
        "id": "p1jFgS9UpZfN",
        "outputId": "85df6bfc-87b2-4d4f-ce2f-3b1eff281c99"
      },
      "source": [
        "print(*titles, sep = '\\n')\n"
      ],
      "execution_count": 6,
      "outputs": [
        {
          "output_type": "stream",
          "name": "stdout",
          "text": [
            "XML Processing in Python\n",
            "How can I find the full path to a font from its display name on a Mac?\n",
            "Get a preview JPEG of a PDF on Windows?\n",
            "Continuous Integration System for a Python Codebase\n",
            "cx_Oracle: How do I iterate over a result set?\n",
            "Using 'in' to match an attribute of Python objects in an array\n",
            "Class views in Django\n",
            "Python and MySQL\n",
            "How do I use itertools.groupby()?\n",
            "Adding a Method to an Existing Object Instance\n",
            "What is the most efficient graph data structure in Python?\n"
          ]
        }
      ]
    },
    {
      "cell_type": "code",
      "metadata": {
        "colab": {
          "base_uri": "https://localhost:8080/"
        },
        "id": "vS8NnCbCpn3Y",
        "outputId": "60f4a3b2-fce6-4c04-9f52-9bbb5b40c096"
      },
      "source": [
        "import nltk\n",
        "nltk.download('stopwords')\n",
        "stopwords = stopwords.words('english')\n",
        "st = WordNetLemmatizer()\n",
        "def preprocessing(document):\n",
        "    document_tokenized = [word.lower() for word in word_tokenize(document)]\n",
        "    document_stopwords = [word for word in document_tokenized if word not in stopwords]\n",
        "    english_punctuations = [\":\",\".\",\"\\n\",\"/\",\"@\", \"\\\\\",\"*\",\"=\",\"^\",\";\",\"_\",\"|\",\n",
        "                               '\"',\"' \",\" '\",\"-\",\n",
        "                               \"(\",\")\",\",\",\">\",\"<\",\n",
        "                               \"!\",\"?\",\"[\",\"]\",\"+\",\n",
        "                               \"&\",\"%\",\"$\",\"#\",\"~\",\"{\",\"}\"]\n",
        "    document_filtered = [word for word in document_stopwords if not word in english_punctuations]\n",
        "    document_stem = [st.lemmatize(word) for word in document_filtered]\n",
        "    return document_stem"
      ],
      "execution_count": 7,
      "outputs": [
        {
          "output_type": "stream",
          "name": "stdout",
          "text": [
            "[nltk_data] Downloading package stopwords to /root/nltk_data...\n",
            "[nltk_data]   Unzipping corpora/stopwords.zip.\n"
          ]
        }
      ]
    },
    {
      "cell_type": "code",
      "metadata": {
        "colab": {
          "base_uri": "https://localhost:8080/",
          "height": 691
        },
        "id": "FSNjPJEvqIl_",
        "outputId": "95c927b2-59a1-44be-e8f5-0d28e762ae07"
      },
      "source": [
        "import nltk\n",
        "nltk.download('punkt')\n",
        "nltk.download('wordnet')\n",
        "combinedText = []\n",
        "combinedTextPreprocsd = []\n",
        "count = 0\n",
        "for i in filteredData.index:\n",
        "    count = count+1\n",
        "    text = str(filteredData['Title'][i]) + \" \" + str(filteredData['Body'][i])\n",
        "    combinedText.append(text)\n",
        "    combinedTextPreprocsd.append(preprocessing(text))\n",
        "    if(count % 50000 == 0):\n",
        "        print(\"Status of preprocessing text: \" + str(count))\n",
        "        \n",
        "filteredData['tokenized_title'] = combinedTextPreprocsd\n",
        "filteredData['combined_text'] = combinedText\n",
        "\n",
        "filteredData.head()"
      ],
      "execution_count": 8,
      "outputs": [
        {
          "output_type": "stream",
          "name": "stdout",
          "text": [
            "[nltk_data] Downloading package punkt to /root/nltk_data...\n",
            "[nltk_data]   Unzipping tokenizers/punkt.zip.\n",
            "[nltk_data] Downloading package wordnet to /root/nltk_data...\n",
            "[nltk_data]   Unzipping corpora/wordnet.zip.\n",
            "Status of preprocessing text: 50000\n",
            "Status of preprocessing text: 100000\n",
            "Status of preprocessing text: 150000\n",
            "Status of preprocessing text: 200000\n",
            "Status of preprocessing text: 250000\n",
            "Status of preprocessing text: 300000\n"
          ]
        },
        {
          "output_type": "execute_result",
          "data": {
            "text/html": [
              "<div>\n",
              "<style scoped>\n",
              "    .dataframe tbody tr th:only-of-type {\n",
              "        vertical-align: middle;\n",
              "    }\n",
              "\n",
              "    .dataframe tbody tr th {\n",
              "        vertical-align: top;\n",
              "    }\n",
              "\n",
              "    .dataframe thead th {\n",
              "        text-align: right;\n",
              "    }\n",
              "</style>\n",
              "<table border=\"1\" class=\"dataframe\">\n",
              "  <thead>\n",
              "    <tr style=\"text-align: right;\">\n",
              "      <th></th>\n",
              "      <th>Id</th>\n",
              "      <th>Body</th>\n",
              "      <th>Title</th>\n",
              "      <th>PostTypeId</th>\n",
              "      <th>Tags</th>\n",
              "      <th>CreationDate</th>\n",
              "      <th>tokenized_title</th>\n",
              "      <th>combined_text</th>\n",
              "    </tr>\n",
              "  </thead>\n",
              "  <tbody>\n",
              "    <tr>\n",
              "      <th>0</th>\n",
              "      <td>337</td>\n",
              "      <td>&lt;p&gt;I am about to build a piece of a project th...</td>\n",
              "      <td>XML Processing in Python</td>\n",
              "      <td>1</td>\n",
              "      <td>&lt;python&gt;&lt;xml&gt;</td>\n",
              "      <td>2008-08-02T03:35:55.697</td>\n",
              "      <td>[xml, processing, python, p, build, piece, pro...</td>\n",
              "      <td>XML Processing in Python &lt;p&gt;I am about to buil...</td>\n",
              "    </tr>\n",
              "    <tr>\n",
              "      <th>1</th>\n",
              "      <td>469</td>\n",
              "      <td>&lt;p&gt;I am using the Photoshop's javascript API t...</td>\n",
              "      <td>How can I find the full path to a font from it...</td>\n",
              "      <td>1</td>\n",
              "      <td>&lt;python&gt;&lt;macos&gt;&lt;fonts&gt;&lt;photoshop&gt;</td>\n",
              "      <td>2008-08-02T15:11:16.430</td>\n",
              "      <td>[find, full, path, font, display, name, mac, p...</td>\n",
              "      <td>How can I find the full path to a font from it...</td>\n",
              "    </tr>\n",
              "    <tr>\n",
              "      <th>2</th>\n",
              "      <td>502</td>\n",
              "      <td>&lt;p&gt;I have a cross-platform (Python) applicatio...</td>\n",
              "      <td>Get a preview JPEG of a PDF on Windows?</td>\n",
              "      <td>1</td>\n",
              "      <td>&lt;python&gt;&lt;windows&gt;&lt;image&gt;&lt;pdf&gt;</td>\n",
              "      <td>2008-08-02T17:01:58.500</td>\n",
              "      <td>[get, preview, jpeg, pdf, window, p, cross-pla...</td>\n",
              "      <td>Get a preview JPEG of a PDF on Windows? &lt;p&gt;I h...</td>\n",
              "    </tr>\n",
              "    <tr>\n",
              "      <th>3</th>\n",
              "      <td>535</td>\n",
              "      <td>&lt;p&gt;I am starting to work on a hobby project wi...</td>\n",
              "      <td>Continuous Integration System for a Python Cod...</td>\n",
              "      <td>1</td>\n",
              "      <td>&lt;python&gt;&lt;continuous-integration&gt;&lt;extreme-progr...</td>\n",
              "      <td>2008-08-02T18:43:54.787</td>\n",
              "      <td>[continuous, integration, system, python, code...</td>\n",
              "      <td>Continuous Integration System for a Python Cod...</td>\n",
              "    </tr>\n",
              "    <tr>\n",
              "      <th>4</th>\n",
              "      <td>594</td>\n",
              "      <td>&lt;p&gt;There are several ways to iterate over a re...</td>\n",
              "      <td>cx_Oracle: How do I iterate over a result set?</td>\n",
              "      <td>1</td>\n",
              "      <td>&lt;python&gt;&lt;sql&gt;&lt;database&gt;&lt;oracle&gt;&lt;cx-oracle&gt;</td>\n",
              "      <td>2008-08-03T01:15:08.507</td>\n",
              "      <td>[cx_oracle, iterate, result, set, p, several, ...</td>\n",
              "      <td>cx_Oracle: How do I iterate over a result set?...</td>\n",
              "    </tr>\n",
              "  </tbody>\n",
              "</table>\n",
              "</div>"
            ],
            "text/plain": [
              "    Id  ...                                      combined_text\n",
              "0  337  ...  XML Processing in Python <p>I am about to buil...\n",
              "1  469  ...  How can I find the full path to a font from it...\n",
              "2  502  ...  Get a preview JPEG of a PDF on Windows? <p>I h...\n",
              "3  535  ...  Continuous Integration System for a Python Cod...\n",
              "4  594  ...  cx_Oracle: How do I iterate over a result set?...\n",
              "\n",
              "[5 rows x 8 columns]"
            ]
          },
          "metadata": {},
          "execution_count": 8
        }
      ]
    },
    {
      "cell_type": "code",
      "metadata": {
        "id": "Ef9Lw6YfuD57"
      },
      "source": [
        "dictTitletoId = {}\n",
        "for i in filteredData.index:\n",
        "    dictTitletoId[filteredData['Title'][i]] = filteredData['Id'][i]\n",
        "        \n",
        "dictIdToTitle = {}\n",
        "for i in filteredData.index:\n",
        "    dictIdToTitle[filteredData['Id'][i]] = filteredData['Title'][i]"
      ],
      "execution_count": 9,
      "outputs": []
    },
    {
      "cell_type": "code",
      "metadata": {
        "id": "YkOy1w1IuOPd"
      },
      "source": [
        "def sent_to_words(sentences):\n",
        "    for sentence in sentences:\n",
        "        yield(gensim.utils.simple_preprocess(str(sentence), deacc=True))  # deacc=True removes punctuations\n",
        "\n",
        "list_of_token_text = list(sent_to_words(filteredData.tokenized_title))\n",
        "\n",
        "#tag each document \n",
        "documents = [TaggedDocument(doc, [i]) for i, doc in enumerate(list_of_token_text)]\n",
        "modelDoc2Vec = Doc2Vec(documents, vector_size=300, window=1, \n",
        "                min_count=3, workers=4, dm=0, alpha = 0.025,\n",
        "                sample= 0.01, dm_concat = 1, dbow_words = 1)\n",
        "modelDoc2Vec.save(\"model_doc2vec_python.model\")"
      ],
      "execution_count": 10,
      "outputs": []
    },
    {
      "cell_type": "code",
      "metadata": {
        "id": "LIyCQHob2pZu"
      },
      "source": [
        "def itemDoc2Vec(id):\n",
        "    try:\n",
        "        title = filteredData.loc[filteredData['Id'] == id]['Title'].tolist()[0]\n",
        "    except:\n",
        "        title = unansweredQues.loc[unansweredQues['Id'] == id]['Title'].tolist()[0]\n",
        "    return title\n",
        "\n",
        "def recommendDoc2Vec(id):\n",
        "    print(\"Recommending posts similar to: \" + itemDoc2Vec(id)) \n",
        "    print(\"----------------------------------------------------------\")\n",
        "    title_input = ''\n",
        "    body_input = ''\n",
        "    for i in range(0, len(filteredData)):\n",
        "        if filteredData['Id'][i] == id:\n",
        "            title_input = filteredData['Title'][i]\n",
        "            body_input = filteredData['Body'][i]\n",
        "            break\n",
        "    if title_input == '' or body_input == '':\n",
        "        title_input = unansweredQues.loc[unansweredQues['Id'] == id]['Title'].tolist()[0]\n",
        "        body_input = unansweredQues.loc[unansweredQues['Id'] == id]['Body'].tolist()[0]\n",
        "    test_input = title_input + \" \" + body_input\n",
        "    test_input = preprocessing(test_input)\n",
        "    test_vector = modelDoc2Vec.infer_vector(test_input)\n",
        "    similar_cases = modelDoc2Vec.docvecs.most_similar(positive = [test_vector], topn=11)\n",
        "    top_10_similar_cases = similar_cases [1:11]\n",
        "    print(\"You may like to read: \\n\")\n",
        "    for i in range(0, len(top_10_similar_cases)):\n",
        "        print(\"PostId: \"+ str(filteredData.loc[top_10_similar_cases[i][0]]['Id']) +\n",
        "          \". \"+ filteredData.loc[top_10_similar_cases[i][0]]['Title'] + \" (score:\" + str(round(top_10_similar_cases[i][1], 3)) + \")\")\n",
        "    return top_10_similar_cases[0][1]\n"
      ],
      "execution_count": 11,
      "outputs": []
    },
    {
      "cell_type": "code",
      "metadata": {
        "id": "xedIF94s23DW",
        "colab": {
          "base_uri": "https://localhost:8080/"
        },
        "outputId": "a8227235-995a-423a-de17-7c9281fc77b1"
      },
      "source": [
        "simScoreListDoc2Vec = []\n",
        "for uniqid in unIds:\n",
        "    simScore = recommendDoc2Vec(uniqid) #Passing the postId of an unanswered post\n",
        "    simScoreListDoc2Vec.append(\"Highest score for Post Id \" + str(uniqid) + \" is = \" + str(simScore))\n",
        "print(*simScoreListDoc2Vec, sep = \"\\n\")"
      ],
      "execution_count": 12,
      "outputs": [
        {
          "output_type": "stream",
          "name": "stdout",
          "text": [
            "Recommending posts similar to: XML Processing in Python\n",
            "----------------------------------------------------------\n",
            "You may like to read: \n",
            "\n",
            "PostId: 301493. Which language is easiest and fastest to work with XML content? (score:0.66)\n",
            "PostId: 3325028. What are the technologies that i should use for developing SaaS. Software as a service (score:0.658)\n",
            "PostId: 331600. How to write a Web Service for Google App Engine? (score:0.658)\n",
            "PostId: 159802. Python Web Services (score:0.647)\n",
            "PostId: 804992. How to consume XML from RESTful web services using Django / Python? (score:0.646)\n",
            "PostId: 20718662. How to create a financial evaluation model using python? (score:0.642)\n",
            "PostId: 4641187. PHP or Python for Image Processing? (score:0.641)\n",
            "PostId: 2714978. Creating WCF Services using Dynamic Languages and DLR (score:0.638)\n",
            "PostId: 359201. How do I create a Web Service in IronPython? (score:0.637)\n",
            "PostId: 2085430. populating data from xml file to a sqlite database using python (score:0.637)\n",
            "Recommending posts similar to: How can I find the full path to a font from its display name on a Mac?\n",
            "----------------------------------------------------------\n",
            "You may like to read: \n",
            "\n",
            "PostId: 5750887. python: use windows api to render text using a ttf font (score:0.626)\n",
            "PostId: 18139455. Using a jar internally in Python | OSX Issues (score:0.624)\n",
            "PostId: 23176897. Extract depthmap in Blender using python api (score:0.623)\n",
            "PostId: 13778126. TrueType font library for Python 3 (score:0.618)\n",
            "PostId: 1616505. writing a font viewer - getting font properties, loading ttf dynamically (score:0.618)\n",
            "PostId: 373020. Finding the Current Active Window in Mac OS X using Python (score:0.618)\n",
            "PostId: 431205. How can I programmatically change the background in Mac OS X? (score:0.617)\n",
            "PostId: 4768877. get the windows installation drive using python (score:0.616)\n",
            "PostId: 1468314. Cross-platform help viewer with search functionality (score:0.614)\n",
            "PostId: 1603688. python image recognition (score:0.613)\n",
            "Recommending posts similar to: Get a preview JPEG of a PDF on Windows?\n",
            "----------------------------------------------------------\n",
            "You may like to read: \n",
            "\n",
            "PostId: 3604669. Where's the Python 2.6.6 Mac OS X Installer Disk Image? (score:0.696)\n",
            "PostId: 19937330. How to render PDF into a Python3 PySide application? (score:0.696)\n",
            "PostId: 10083355. Python PDF thumbnail preview generation (score:0.695)\n",
            "PostId: 21399894. Is it possible to theme GUI applications with custom Python window manager? (score:0.691)\n",
            "PostId: 22343606. How to convert a JPEG2000 to JPEG in Python? (score:0.684)\n",
            "PostId: 787287. How to convert SVG images for use with Pisa / XHTML2PDF? (score:0.683)\n",
            "PostId: 11367252. Does PySide support Python 3? (score:0.68)\n",
            "PostId: 2933084. Is cropping of jpeg images using the PIL lossless? (score:0.679)\n",
            "PostId: 13944581. How can capture a window photo (thumbnail)? (score:0.678)\n",
            "PostId: 6738440. Display a transparent .png in wxpython (score:0.671)\n",
            "Recommending posts similar to: Continuous Integration System for a Python Codebase\n",
            "----------------------------------------------------------\n",
            "You may like to read: \n",
            "\n",
            "PostId: 6640385. python continuous integration (score:0.701)\n",
            "PostId: 18691286. What is a sensible Python unit testing environment in Windows? (score:0.69)\n",
            "PostId: 7266809. Python 3.x WSGI Testing framework (score:0.677)\n",
            "PostId: 545730. Tool (or combination of tools) for reproducible environments in Python (score:0.675)\n",
            "PostId: 6358624. Python version recommendation (score:0.672)\n",
            "PostId: 8962037. what are some of the industry wide used continous integration tool , nightly build system for Python based program (score:0.671)\n",
            "PostId: 1685885. Auto run unit test cases in Python (score:0.669)\n",
            "PostId: 23121027. Is there any available online interpreter solution (score:0.669)\n",
            "PostId: 1660643. Python alternative of ruby watirrecorder? (score:0.663)\n",
            "PostId: 7677897. Is there a framework that can be used to test Python modules against several versions of Python? (score:0.663)\n",
            "Recommending posts similar to: cx_Oracle: How do I iterate over a result set?\n",
            "----------------------------------------------------------\n",
            "You may like to read: \n",
            "\n",
            "PostId: 17707264. Iterating over PyoDBC result without fetchall() (score:0.725)\n",
            "PostId: 19368375. Set partitions in Python (score:0.722)\n",
            "PostId: 4940670. pymysql fetchall() results as dictionary? (score:0.719)\n",
            "PostId: 9709311. What's the pythonic way to unite all the intersecting sets in a list? (score:0.709)\n",
            "PostId: 7242821. Sort a list of sets (score:0.707)\n",
            "PostId: 18648824. Construct a circular loop in python (score:0.706)\n",
            "PostId: 1395786. Pervasive 8 and Python (score:0.705)\n",
            "PostId: 522430. Is there a way to loop through a sub section of a list in Python (score:0.705)\n",
            "PostId: 12023683. set consisting of an empty set (score:0.703)\n",
            "PostId: 18102319. Python: best way to find out from which set the results of `symmetric_difference` are from? (score:0.703)\n",
            "Recommending posts similar to: Using 'in' to match an attribute of Python objects in an array\n",
            "----------------------------------------------------------\n",
            "You may like to read: \n",
            "\n",
            "PostId: 598398. Searching a list of objects in Python (score:0.685)\n",
            "PostId: 7373219. Attribute getters in python (score:0.685)\n",
            "PostId: 17270293. how do you distinguish numpy arrays from Python's built-in objects (score:0.68)\n",
            "PostId: 17290837. Is there an equivalent of the python function id() in matlab? (score:0.679)\n",
            "PostId: 6141853. numpy array of python objects (score:0.679)\n",
            "PostId: 10922849. Mean of object variables in a python array (score:0.677)\n",
            "PostId: 16186388. Check for multiple attribute matches in an array of objects (score:0.677)\n",
            "PostId: 21243775. Vertical bar in Python bitwise assignment operator (score:0.675)\n",
            "PostId: 1969490. Shortest way to find if a string matchs an object's attribute value in a list of objects of that type in Python (score:0.669)\n",
            "PostId: 22883784. python tensors with named field access (score:0.667)\n",
            "Recommending posts similar to: Class views in Django\n",
            "----------------------------------------------------------\n",
            "You may like to read: \n",
            "\n",
            "PostId: 21452352. Is it possible to call different function of class based views through different actions in template (score:0.667)\n",
            "PostId: 16783112. Every Class in Django must have the function __init__()? (score:0.666)\n",
            "PostId: 21484722. Creating a post/comment ability in Django (score:0.664)\n",
            "PostId: 1304608. User-specific model in Django (score:0.662)\n",
            "PostId: 19965270. Performance: Class Based Views VS Function Based Views (score:0.661)\n",
            "PostId: 546753. Multiple-instance Django forum software (score:0.66)\n",
            "PostId: 3774005. Django / Python, calling a specific class / function on every user Request (score:0.657)\n",
            "PostId: 1368255. How do I unit test Django Views? (score:0.656)\n",
            "PostId: 20793167. django user and custom user class (score:0.656)\n",
            "PostId: 18238171. Django - passing user related information to many views (score:0.655)\n",
            "Recommending posts similar to: Python and MySQL\n",
            "----------------------------------------------------------\n",
            "You may like to read: \n",
            "\n",
            "PostId: 11653040. Not able to install python mysql module (score:0.703)\n",
            "PostId: 833624. What i need to install python 2.5 on SCO 5.0.5 (score:0.699)\n",
            "PostId: 6249054. How can access MySQL with Python? (score:0.696)\n",
            "PostId: 2886466. What exactly is a web application framework? (score:0.693)\n",
            "PostId: 2184156. Python database access using single file/already build file (score:0.691)\n",
            "PostId: 9230206. How to install/use cx_Oracle in PyPy (score:0.689)\n",
            "PostId: 2802782. Django Python Macports (score:0.689)\n",
            "PostId: 3562406. Is there no mysql connector for python 2.7 on windows (score:0.688)\n",
            "PostId: 22670236. Python library installed for version 2.6 instead of 2.7 (score:0.688)\n",
            "PostId: 3850545. Where do you get Python SOAPPy forwindows? (score:0.688)\n",
            "Recommending posts similar to: How do I use itertools.groupby()?\n",
            "----------------------------------------------------------\n",
            "You may like to read: \n",
            "\n",
            "PostId: 19290762. Can't modify list elements in a loop (score:0.647)\n",
            "PostId: 4005641. Is Python bad at XML? (score:0.647)\n",
            "PostId: 23200484. PyArg_ParseTuple() on arbitrary tuples (score:0.646)\n",
            "PostId: 16135833. Generate combinations of elements from multiple lists (score:0.64)\n",
            "PostId: 604802. Python: finding an element in a list (score:0.64)\n",
            "PostId: 4111207. Python: conditionally delete elements from list (score:0.634)\n",
            "PostId: 17160162. What do ellipsis [...] mean in a list? (score:0.633)\n",
            "PostId: 22912733. Example of use libextractor3 from python (score:0.633)\n",
            "PostId: 23179230. Python: Processing each row independently using map function (score:0.632)\n",
            "PostId: 7971972. Python - ElementTree Library (score:0.631)\n",
            "Recommending posts similar to: Adding a Method to an Existing Object Instance\n",
            "----------------------------------------------------------\n",
            "You may like to read: \n",
            "\n",
            "PostId: 790560. Object class override or modify (score:0.778)\n",
            "PostId: 15575161. Dynamicaly decoratoring methods in a class on Python (score:0.743)\n",
            "PostId: 18448224. Does Python need to know the definition of passed, but unused object? (score:0.74)\n",
            "PostId: 9893031. Using class methods as simple functions (score:0.737)\n",
            "PostId: 1047021. Overriding \"+=\" in Python? (__iadd__() method) (score:0.735)\n",
            "PostId: 21424927. Assign same value to an instance's attribute (score:0.735)\n",
            "PostId: 5842593. When and why might I assign an instance of a descriptor class to a class attribute in Python rather than use a property? (score:0.734)\n",
            "PostId: 19476816. Creating an empty object in Python (score:0.734)\n",
            "PostId: 9140857. OOP python - removing class instance from a list (score:0.734)\n",
            "PostId: 13184260. I'd like to create a mock object in python (score:0.728)\n",
            "Recommending posts similar to: What is the most efficient graph data structure in Python?\n",
            "----------------------------------------------------------\n",
            "You may like to read: \n",
            "\n",
            "PostId: 2806806. Huge Graph Structure (score:0.691)\n",
            "PostId: 9888977. Memory error solutions in Python (score:0.676)\n",
            "PostId: 2968172. How to share an array in Python with a C++ Program? (score:0.672)\n",
            "PostId: 14369739. Creating Adjacency Lists from Dicts in Python (score:0.672)\n",
            "PostId: 308912. Python data structures overhead/performance (score:0.671)\n",
            "PostId: 6171030. Working with data exceeded memory (score:0.671)\n",
            "PostId: 4223130. How to handle Out of memory with Python (score:0.67)\n",
            "PostId: 2391788. Models in database speed vs static dictionaries speed (score:0.668)\n",
            "PostId: 22986437. Sparse array of dicts - efficient representation (score:0.659)\n",
            "PostId: 17844688. Fast processing (score:0.658)\n",
            "Highest score for Post Id 337 is = 0.6598714590072632\n",
            "Highest score for Post Id 469 is = 0.6255884766578674\n",
            "Highest score for Post Id 502 is = 0.6960422396659851\n",
            "Highest score for Post Id 535 is = 0.7011528015136719\n",
            "Highest score for Post Id 594 is = 0.7246119976043701\n",
            "Highest score for Post Id 683 is = 0.6854580640792847\n",
            "Highest score for Post Id 742 is = 0.6667366027832031\n",
            "Highest score for Post Id 766 is = 0.7028687596321106\n",
            "Highest score for Post Id 773 is = 0.6471213698387146\n",
            "Highest score for Post Id 972 is = 0.778265655040741\n",
            "Highest score for Post Id 1171 is = 0.69105064868927\n"
          ]
        }
      ]
    },
    {
      "cell_type": "code",
      "metadata": {
        "colab": {
          "base_uri": "https://localhost:8080/",
          "height": 625
        },
        "id": "aYPERztu0uQE",
        "outputId": "e8fdfc82-0444-466f-b50a-b4482fcfddfd"
      },
      "source": [
        "import nltk\n",
        "nltk.download('averaged_perceptron_tagger')\n",
        "VERB_CODES = {'VB', 'VBD', 'VBG', 'VBN', 'VBP', 'VBZ'}\n",
        "def preprocess_tf_idf(text):\n",
        "    text = text.lower()\n",
        "    temp_sent =[]\n",
        "    words = nltk.word_tokenize(text)\n",
        "    tags = nltk.pos_tag(words)\n",
        "    for i, word in enumerate(words):\n",
        "        if tags[i][1] in VERB_CODES: \n",
        "            lemmatized = st.lemmatize(word, 'v')\n",
        "        else:\n",
        "            lemmatized = st.lemmatize(word)\n",
        "        if lemmatized not in stopwords and lemmatized.isalpha():\n",
        "            temp_sent.append(lemmatized)\n",
        "          \n",
        "    finalsent = ' '.join(temp_sent)\n",
        "    finalsent = finalsent.replace(\"n't\", \" not\")\n",
        "    finalsent = finalsent.replace(\"'m\", \" am\")\n",
        "    finalsent = finalsent.replace(\"'s\", \" is\")\n",
        "    finalsent = finalsent.replace(\"'re\", \" are\")\n",
        "    finalsent = finalsent.replace(\"'ll\", \" will\")\n",
        "    finalsent = finalsent.replace(\"'ve\", \" have\")\n",
        "    finalsent = finalsent.replace(\"'d\", \" would\")\n",
        "    return finalsent\n",
        "  \n",
        "filteredData[\"combined_text_processed\"]= filteredData['combined_text'].apply(preprocess_tf_idf)\n",
        "\n",
        "filteredData.head()"
      ],
      "execution_count": 13,
      "outputs": [
        {
          "output_type": "stream",
          "name": "stdout",
          "text": [
            "[nltk_data] Downloading package averaged_perceptron_tagger to\n",
            "[nltk_data]     /root/nltk_data...\n",
            "[nltk_data]   Unzipping taggers/averaged_perceptron_tagger.zip.\n"
          ]
        },
        {
          "output_type": "execute_result",
          "data": {
            "text/html": [
              "<div>\n",
              "<style scoped>\n",
              "    .dataframe tbody tr th:only-of-type {\n",
              "        vertical-align: middle;\n",
              "    }\n",
              "\n",
              "    .dataframe tbody tr th {\n",
              "        vertical-align: top;\n",
              "    }\n",
              "\n",
              "    .dataframe thead th {\n",
              "        text-align: right;\n",
              "    }\n",
              "</style>\n",
              "<table border=\"1\" class=\"dataframe\">\n",
              "  <thead>\n",
              "    <tr style=\"text-align: right;\">\n",
              "      <th></th>\n",
              "      <th>Id</th>\n",
              "      <th>Body</th>\n",
              "      <th>Title</th>\n",
              "      <th>PostTypeId</th>\n",
              "      <th>Tags</th>\n",
              "      <th>CreationDate</th>\n",
              "      <th>tokenized_title</th>\n",
              "      <th>combined_text</th>\n",
              "      <th>combined_text_processed</th>\n",
              "    </tr>\n",
              "  </thead>\n",
              "  <tbody>\n",
              "    <tr>\n",
              "      <th>0</th>\n",
              "      <td>337</td>\n",
              "      <td>&lt;p&gt;I am about to build a piece of a project th...</td>\n",
              "      <td>XML Processing in Python</td>\n",
              "      <td>1</td>\n",
              "      <td>&lt;python&gt;&lt;xml&gt;</td>\n",
              "      <td>2008-08-02T03:35:55.697</td>\n",
              "      <td>[xml, processing, python, p, build, piece, pro...</td>\n",
              "      <td>XML Processing in Python &lt;p&gt;I am about to buil...</td>\n",
              "      <td>xml processing python p build piece project ne...</td>\n",
              "    </tr>\n",
              "    <tr>\n",
              "      <th>1</th>\n",
              "      <td>469</td>\n",
              "      <td>&lt;p&gt;I am using the Photoshop's javascript API t...</td>\n",
              "      <td>How can I find the full path to a font from it...</td>\n",
              "      <td>1</td>\n",
              "      <td>&lt;python&gt;&lt;macos&gt;&lt;fonts&gt;&lt;photoshop&gt;</td>\n",
              "      <td>2008-08-02T15:11:16.430</td>\n",
              "      <td>[find, full, path, font, display, name, mac, p...</td>\n",
              "      <td>How can I find the full path to a font from it...</td>\n",
              "      <td>find full path font display name mac p use pho...</td>\n",
              "    </tr>\n",
              "    <tr>\n",
              "      <th>2</th>\n",
              "      <td>502</td>\n",
              "      <td>&lt;p&gt;I have a cross-platform (Python) applicatio...</td>\n",
              "      <td>Get a preview JPEG of a PDF on Windows?</td>\n",
              "      <td>1</td>\n",
              "      <td>&lt;python&gt;&lt;windows&gt;&lt;image&gt;&lt;pdf&gt;</td>\n",
              "      <td>2008-08-02T17:01:58.500</td>\n",
              "      <td>[get, preview, jpeg, pdf, window, p, cross-pla...</td>\n",
              "      <td>Get a preview JPEG of a PDF on Windows? &lt;p&gt;I h...</td>\n",
              "      <td>get preview jpeg pdf window p python applicati...</td>\n",
              "    </tr>\n",
              "    <tr>\n",
              "      <th>3</th>\n",
              "      <td>535</td>\n",
              "      <td>&lt;p&gt;I am starting to work on a hobby project wi...</td>\n",
              "      <td>Continuous Integration System for a Python Cod...</td>\n",
              "      <td>1</td>\n",
              "      <td>&lt;python&gt;&lt;continuous-integration&gt;&lt;extreme-progr...</td>\n",
              "      <td>2008-08-02T18:43:54.787</td>\n",
              "      <td>[continuous, integration, system, python, code...</td>\n",
              "      <td>Continuous Integration System for a Python Cod...</td>\n",
              "      <td>continuous integration system python codebase ...</td>\n",
              "    </tr>\n",
              "    <tr>\n",
              "      <th>4</th>\n",
              "      <td>594</td>\n",
              "      <td>&lt;p&gt;There are several ways to iterate over a re...</td>\n",
              "      <td>cx_Oracle: How do I iterate over a result set?</td>\n",
              "      <td>1</td>\n",
              "      <td>&lt;python&gt;&lt;sql&gt;&lt;database&gt;&lt;oracle&gt;&lt;cx-oracle&gt;</td>\n",
              "      <td>2008-08-03T01:15:08.507</td>\n",
              "      <td>[cx_oracle, iterate, result, set, p, several, ...</td>\n",
              "      <td>cx_Oracle: How do I iterate over a result set?...</td>\n",
              "      <td>iterate result set p several way iterate resul...</td>\n",
              "    </tr>\n",
              "  </tbody>\n",
              "</table>\n",
              "</div>"
            ],
            "text/plain": [
              "    Id  ...                            combined_text_processed\n",
              "0  337  ...  xml processing python p build piece project ne...\n",
              "1  469  ...  find full path font display name mac p use pho...\n",
              "2  502  ...  get preview jpeg pdf window p python applicati...\n",
              "3  535  ...  continuous integration system python codebase ...\n",
              "4  594  ...  iterate result set p several way iterate resul...\n",
              "\n",
              "[5 rows x 9 columns]"
            ]
          },
          "metadata": {},
          "execution_count": 13
        }
      ]
    },
    {
      "cell_type": "code",
      "metadata": {
        "id": "pxMAXmlN6uyN"
      },
      "source": [
        "from sklearn.metrics.pairwise import linear_kernel\n",
        "tf = TfidfVectorizer(analyzer='word', ngram_range=(1, 3), min_df=50, stop_words='english')\n",
        "filteredData_new = filteredData.head(10000)\n",
        "\n",
        "tfidf_matrix = tf.fit_transform(filteredData_new['combined_text_processed'])\n",
        "cosine_similarities = cosine_similarity(tfidf_matrix, tfidf_matrix)\n",
        "results = {} # dictionary created to store the result in a dictionary format (ID : (Score,item_id))#\n",
        "\n",
        "for idx, row in filteredData_new.iterrows(): \n",
        "    # the below code 'similar_indice' stores similar ids based on cosine similarity. sorts them in ascending order. [:-10:-1] is then used so that the indices with most similarity are got. 0 means no similarity and 1 means perfect similarity#\n",
        "    similar_indices = cosine_similarities[idx].argsort()[:-10:-1] \n",
        "\n",
        "    #stores 10 most similar books, you can change it as per your needs\n",
        "    similar_items = [(cosine_similarities[idx][i], filteredData_new['Id'][i]) for i in similar_indices]\n",
        "    results[row['Id']] = similar_items[1:]"
      ],
      "execution_count": null,
      "outputs": []
    },
    {
      "cell_type": "code",
      "metadata": {
        "id": "ZNcekf0b60Qn"
      },
      "source": [
        "def itemTfIdf(id):\n",
        "    try:\n",
        "        title = filteredData_new.loc[filteredData_new['Id'] == id]['Title'].tolist()[0]\n",
        "    except:\n",
        "        title = unansweredQues.loc[unansweredQues['Id'] == id]['Title'].tolist()[0]\n",
        "    return title\n",
        "\n",
        "def recommendTfIdf(id):\n",
        "    print(\"Recommending posts similar to: \" + itemTfIdf(id)) \n",
        "    print(\"----------------------------------------------------------\")\n",
        "    recs = results[id][:11]\n",
        "    print(\"You may like to read: \\n\")\n",
        "    for rec in recs:\n",
        "        print(\"Post Id:\" + str(dictTitletoId[itemTfIdf(rec[1])]) + \". \" + itemTfIdf(rec[1]) + \" (score:\" + str(round(rec[0], 3)) + \")\")\n",
        "    return recs[0][0]\n"
      ],
      "execution_count": null,
      "outputs": []
    },
    {
      "cell_type": "code",
      "metadata": {
        "id": "pLVMwFLL65HN"
      },
      "source": [
        "simScoreListTfIdf = []\n",
        "for uniqid in unIds:\n",
        "    simScore = recommendTfIdf(uniqid) #Passing the postId of an unanswered post\n",
        "    simScoreListTfIdf.append(\"Highest score for Post Id \" + str(uniqid) + \" is = \" + str(simScore))\n",
        "print(*simScoreListTfIdf, sep = \"\\n\")"
      ],
      "execution_count": null,
      "outputs": []
    }
  ]
}